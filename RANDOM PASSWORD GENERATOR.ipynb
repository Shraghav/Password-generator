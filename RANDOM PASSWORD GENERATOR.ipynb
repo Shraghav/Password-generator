{
 "cells": [
  {
   "cell_type": "code",
   "execution_count": 12,
   "id": "46fcb5ff",
   "metadata": {},
   "outputs": [
    {
     "name": "stdout",
     "output_type": "stream",
     "text": [
      "RANDOM GENERATED PASSWORD: F?Y*wB@*1dNZ\n"
     ]
    }
   ],
   "source": [
    "import array\n",
    "import random\n",
    "want=int(input(\"ENTER HOW MUCH LENGTH YOUR PASSWORD SHOULD BE:\"))\n",
    "DIGITS = ['0', '1', '2', '3', '4', '5', '6', '7', '8', '9'] \n",
    "LOCASE = ['a', 'b', 'c', 'd', 'e', 'f', 'g', 'h',\n",
    "                     'i', 'j', 'k', 'm', 'n', 'o', 'p', 'q',\n",
    "                     'r', 's', 't', 'u', 'v', 'w', 'x', 'y',\n",
    "                     'z']\n",
    " \n",
    "UPCASE = ['A', 'B', 'C', 'D', 'E', 'F', 'G', 'H',\n",
    "                    'I', 'J', 'K', 'M', 'N', 'O', 'P', 'Q',\n",
    "                     'R', 'S', 'T', 'U', 'V', 'W', 'X', 'Y',\n",
    "                     'Z']\n",
    " \n",
    "SYM = ['@', '#', '$', '%', '=','?', '.', '/', '|', '~',\n",
    "           '*']\n",
    "\n",
    "combine=DIGITS+LOCASE+UPCASE+SYM\n",
    "rand_digit=random.choice(DIGITS)\n",
    "rand_locase=random.choice(LOCASE)\n",
    "rand_upcase=random.choice(UPCASE)\n",
    "rand_sym=random.choice(SYM)\n",
    "rand_var=rand_digit+rand_locase+rand_upcase+rand_sym\n",
    "\n",
    "for i in range(want-4):\n",
    "    rand_var=rand_var+random.choice(combine)\n",
    "temp_array=array.array(\"u\",rand_var)\n",
    "random.shuffle(temp_array)\n",
    "password=\"\"\n",
    "for i in temp_array:\n",
    "    password=password+i\n",
    "print(\"RANDOM GENERATED PASSWORD:\",password)"
   ]
  }
 ],
 "metadata": {
  "kernelspec": {
   "display_name": "Python 3 (ipykernel)",
   "language": "python",
   "name": "python3"
  },
  "language_info": {
   "codemirror_mode": {
    "name": "ipython",
    "version": 3
   },
   "file_extension": ".py",
   "mimetype": "text/x-python",
   "name": "python",
   "nbconvert_exporter": "python",
   "pygments_lexer": "ipython3",
   "version": "3.9.7"
  }
 },
 "nbformat": 4,
 "nbformat_minor": 5
}
